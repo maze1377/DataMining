{
  "nbformat": 4,
  "nbformat_minor": 0,
  "metadata": {
    "kernelspec": {
      "display_name": "Python 3",
      "language": "python",
      "name": "python3"
    },
    "language_info": {
      "codemirror_mode": {
        "name": "ipython",
        "version": 3
      },
      "file_extension": ".py",
      "mimetype": "text/x-python",
      "name": "python",
      "nbconvert_exporter": "python",
      "pygments_lexer": "ipython3",
      "version": "3.8.2"
    },
    "colab": {
      "name": "main.ipynb",
      "provenance": [],
      "collapsed_sections": [
        "fIbgjZXJGxNj"
      ]
    }
  },
  "cells": [
    {
      "cell_type": "markdown",
      "metadata": {
        "id": "vsLal9xAGxMB",
        "colab_type": "text"
      },
      "source": [
        "# Predicting Diabetes Patient Readmission\n",
        "Sheng Weng edit by mahdi akbari zarkesh"
      ]
    },
    {
      "cell_type": "markdown",
      "metadata": {
        "id": "RT2iO5J8GxMC",
        "colab_type": "text"
      },
      "source": [
        "# Background\n",
        "It was reported that in 2011 more than 3.3 million patients were readmitted in the US within 30 days of being discharged, and they were associated with about $41 billion in hospital costs. The need for readmission indicates that inadequate care was provided to the patient at the time of first admission. The readmission rate has become an important metric measuring the overall quality of a hospital.\n",
        "\n",
        "Diabetes is the 7th leading cause of death and affects about 23.6 million people in the US. 1.4 million Americans are diagnosed with diabetes every year. Hospital readmission being a major concern in diabetes care, over 250 million dollars was spent on treatment of readmitted diabetic patients in 2011. Early identification of patients facing a high risk of readmission can enable healthcare providers to conduct additional investigations and possibly prevent future readmissions.\n",
        "\n",
        "In this project, I build a machine learning classifier model to predict diabetes patients with high risk of readmission. Note that higher sensitivity (recall) is more desirable for hospitals because it is more crucial to correctly identify \"high risk\" patients who are likely to be readmitted than identifying \"low risk\" patients.\n",
        "\n"
      ]
    },
    {
      "cell_type": "markdown",
      "metadata": {
        "id": "voQ0hpg-GxMD",
        "colab_type": "text"
      },
      "source": [
        "# Dataset Description\n",
        "The dataset represents 10 years (1999-2008) of clinical care at 130 US hospitals and integrated delivery networks. It includes 50 features representing 101766 diabetes patients and hospital outcomes. Information was extracted from the database for encounters that satisfied the following criteria:\n",
        "\n",
        "- It is an inpatient encounter (a hospital admission).\n",
        "- It is a diabetic encounter, that is, one during which any kind of diabetes was entered to the system as a diagnosis.\n",
        "- The length of stay was at least 1 day and at most 14 days.\n",
        "- Laboratory tests were performed during the encounter.\n",
        "- Medications were administered during the encounter.\n",
        "\n",
        "The data contains such attributes as patient number, race, gender, age, admission type, time in hospital, medical specialty of admitting physician, number of lab test performed, HbA1c test result, diagnosis, number of medication, diabetic medications, number of outpatient, inpatient, and emergency visits in the year before the hospitalization, etc.\n",
        "\n",
        "Source: UCI Machine Learning Repository, https://archive.ics.uci.edu/ml/datasets/Diabetes+130-US+hospitals+for+years+1999-2008 \n",
        "\n",
        "\n",
        "**VARIABLE** : DESCRIPTION\n",
        "* **Encounter ID** :\tUnique identifier of an encounter\n",
        "* **Patient number** :\tUnique identifier of a patient\n",
        "* **Race\tValues** : Caucasian, Asian, African American, Hispanic, and other\n",
        "* **Gender**\tValues: male, female, and unknown/invalid\n",
        "* **Age**\t: Grouped in 10-year intervals: 0, 10), 10, 20), …, 90, 100)\n",
        "* **Weight** :\tWeight in pounds\n",
        "* **Admission type** : Integer identifier corresponding to 9 distinct values, for example, emergency, urgent, elective, newborn, and not available\n",
        "* **Discharge disposition** :\tInteger identifier corresponding to 29 distinct values, for example, discharged to home, expired, and not available\n",
        "* **Admission source** :\tInteger identifier corresponding to 21 distinct values, for example, physician referral, emergency room, and transfer from a hospital\n",
        "* **Time in hospital** :\tInteger number of days between admission and discharge\n",
        "* **Payer code** :\tInteger identifier corresponding to 23 distinct values, for example, Blue Cross/Blue Shield, Medicare, and self-pay Medical\n",
        "* **Medical specialty** :\tInteger identifier of a specialty of the admitting physician, corresponding to 84 distinct values, for example, cardiology, internal medicine, family/general practice, and surgeon\n",
        "* **Number of lab procedures** :\tNumber of lab tests performed during the encounter\n",
        "* **Number of procedures** :  Numeric\tNumber of procedures (other than lab tests) performed during the encounter\n",
        "* **Number of medications** : Number of distinct generic names administered during the encounter\n",
        "* **Number of outpatient visits** : Number of outpatient visits of the patient in the year preceding the encounter\n",
        "* **Number of emergency visits** :\tNumber of emergency visits of the patient in the year preceding the encounter\n",
        "* **Number of inpatient visits** :\tNumber of inpatient visits of the patient in the year preceding the encounter\n",
        "* **Diagnosis 1** :\tThe primary diagnosis (coded as first three digits of ICD9); 848 distinct values\n",
        "* **Diagnosis 2** :\tSecondary diagnosis (coded as first three digits of ICD9); 923 distinct values\n",
        "* **Diagnosis 3** : Additional secondary diagnosis (coded as first three digits of ICD9); 954 distinct values\n",
        "* **Number of diagnoses** :\tNumber of diagnoses entered to the system 0%\n",
        "* **Glucose serum test result** :\tIndicates the range of the result or if the test was not taken. Values: “>200,” “>300,” “normal,” and “none” if not measured\n",
        "* **A1c test result** :\tIndicates the range of the result or if the test was not taken. Values: “>8” if the result was greater than 8%, “>7” if the result was greater than 7% but less than 8%, “normal” if the result was less than 7%, and “none” if not measured.\n",
        "* **Change of medications**\t: Indicates if there was a change in diabetic medications (either dosage or generic name). Values: “change” and “no change”\n",
        "* **Diabetes medications** :\tIndicates if there was any diabetic medication prescribed. Values: “yes” and “no”\n",
        "* 24 features for medications\tFor the generic names: **metformin, repaglinide, nateglinide, chlorpropamide, glimepiride, acetohexamide, glipizide, glyburide, tolbutamide, pioglitazone, rosiglitazone, acarbose, miglitol, troglitazone, tolazamide, examide, sitagliptin, insulin, glyburide-metformin, glipizide-metformin, glimepiride- pioglitazone, metformin-rosiglitazone, and metformin- pioglitazone**, the feature indicates whether the drug was prescribed or there was a change in the dosage. Values: “up” if the dosage was increased during the encounter, “down” if the dosage was decreased, “steady” if the dosage did not change, and “no” if the drug was not prescribed\n",
        "* **Readmitted** :\tDays to inpatient readmission. Values: “<30” if the patient was readmitted in less than 30 days, “>30” if the patient was readmitted in more than 30 days, and “No” for no record of readmission"
      ]
    },
    {
      "cell_type": "markdown",
      "metadata": {
        "id": "KDuBkU4BGxME",
        "colab_type": "text"
      },
      "source": [
        "### Overview of Dataset"
      ]
    },
    {
      "cell_type": "code",
      "metadata": {
        "id": "IqhEqncmGxME",
        "colab_type": "code",
        "colab": {}
      },
      "source": [
        "import numpy as np\n",
        "import pandas as pd\n",
        "import seaborn as sns\n",
        "import matplotlib.pyplot as plt\n",
        "%matplotlib inline\n",
        "\n",
        "import matplotlib.pyplot as plt\n",
        "plt.style.use('ggplot')"
      ],
      "execution_count": 0,
      "outputs": []
    },
    {
      "cell_type": "code",
      "metadata": {
        "id": "MrahRdLnGxMI",
        "colab_type": "code",
        "colab": {}
      },
      "source": [
        "# read the file and create a pandas dataframe\n",
        "data = pd.read_csv('diabetic_data.csv')"
      ],
      "execution_count": 0,
      "outputs": []
    },
    {
      "cell_type": "code",
      "metadata": {
        "id": "KtGWrlMUGxMK",
        "colab_type": "code",
        "colab": {
          "base_uri": "https://localhost:8080/",
          "height": 34
        },
        "outputId": "1a575f45-41fe-45de-809e-883de1b0a214"
      },
      "source": [
        "# check the dimensions of the data\n",
        "data.shape"
      ],
      "execution_count": 7,
      "outputs": [
        {
          "output_type": "execute_result",
          "data": {
            "text/plain": [
              "(101766, 50)"
            ]
          },
          "metadata": {
            "tags": []
          },
          "execution_count": 7
        }
      ]
    },
    {
      "cell_type": "code",
      "metadata": {
        "id": "DmmXg6OPGxMO",
        "colab_type": "code",
        "colab": {
          "base_uri": "https://localhost:8080/",
          "height": 1000
        },
        "outputId": "bb0e7104-e03e-459a-f803-f14762315b92"
      },
      "source": [
        "# take a first look at the dataset\n",
        "data.info()"
      ],
      "execution_count": 8,
      "outputs": [
        {
          "output_type": "stream",
          "text": [
            "<class 'pandas.core.frame.DataFrame'>\n",
            "RangeIndex: 101766 entries, 0 to 101765\n",
            "Data columns (total 50 columns):\n",
            " #   Column                    Non-Null Count   Dtype \n",
            "---  ------                    --------------   ----- \n",
            " 0   encounter_id              101766 non-null  int64 \n",
            " 1   patient_nbr               101766 non-null  int64 \n",
            " 2   race                      101766 non-null  object\n",
            " 3   gender                    101766 non-null  object\n",
            " 4   age                       101766 non-null  object\n",
            " 5   weight                    101766 non-null  object\n",
            " 6   admission_type_id         101766 non-null  int64 \n",
            " 7   discharge_disposition_id  101766 non-null  int64 \n",
            " 8   admission_source_id       101766 non-null  int64 \n",
            " 9   time_in_hospital          101766 non-null  int64 \n",
            " 10  payer_code                101766 non-null  object\n",
            " 11  medical_specialty         101766 non-null  object\n",
            " 12  num_lab_procedures        101766 non-null  int64 \n",
            " 13  num_procedures            101766 non-null  int64 \n",
            " 14  num_medications           101766 non-null  int64 \n",
            " 15  number_outpatient         101766 non-null  int64 \n",
            " 16  number_emergency          101766 non-null  int64 \n",
            " 17  number_inpatient          101766 non-null  int64 \n",
            " 18  diag_1                    101766 non-null  object\n",
            " 19  diag_2                    101766 non-null  object\n",
            " 20  diag_3                    101766 non-null  object\n",
            " 21  number_diagnoses          101766 non-null  int64 \n",
            " 22  max_glu_serum             101766 non-null  object\n",
            " 23  A1Cresult                 101766 non-null  object\n",
            " 24  metformin                 101766 non-null  object\n",
            " 25  repaglinide               101766 non-null  object\n",
            " 26  nateglinide               101766 non-null  object\n",
            " 27  chlorpropamide            101766 non-null  object\n",
            " 28  glimepiride               101766 non-null  object\n",
            " 29  acetohexamide             101766 non-null  object\n",
            " 30  glipizide                 101766 non-null  object\n",
            " 31  glyburide                 101766 non-null  object\n",
            " 32  tolbutamide               101766 non-null  object\n",
            " 33  pioglitazone              101766 non-null  object\n",
            " 34  rosiglitazone             101766 non-null  object\n",
            " 35  acarbose                  101766 non-null  object\n",
            " 36  miglitol                  101766 non-null  object\n",
            " 37  troglitazone              101766 non-null  object\n",
            " 38  tolazamide                101766 non-null  object\n",
            " 39  examide                   101766 non-null  object\n",
            " 40  citoglipton               101766 non-null  object\n",
            " 41  insulin                   101766 non-null  object\n",
            " 42  glyburide-metformin       101766 non-null  object\n",
            " 43  glipizide-metformin       101766 non-null  object\n",
            " 44  glimepiride-pioglitazone  101766 non-null  object\n",
            " 45  metformin-rosiglitazone   101766 non-null  object\n",
            " 46  metformin-pioglitazone    101766 non-null  object\n",
            " 47  change                    101766 non-null  object\n",
            " 48  diabetesMed               101766 non-null  object\n",
            " 49  readmitted                101766 non-null  object\n",
            "dtypes: int64(13), object(37)\n",
            "memory usage: 38.8+ MB\n"
          ],
          "name": "stdout"
        }
      ]
    },
    {
      "cell_type": "code",
      "metadata": {
        "id": "-Fen4ONgGxMQ",
        "colab_type": "code",
        "colab": {
          "base_uri": "https://localhost:8080/",
          "height": 316
        },
        "outputId": "bd992672-2092-4a18-8f22-8f0d01f1152f"
      },
      "source": [
        "# first 5 rows of data\n",
        "data.head()"
      ],
      "execution_count": 9,
      "outputs": [
        {
          "output_type": "execute_result",
          "data": {
            "text/html": [
              "<div>\n",
              "<style scoped>\n",
              "    .dataframe tbody tr th:only-of-type {\n",
              "        vertical-align: middle;\n",
              "    }\n",
              "\n",
              "    .dataframe tbody tr th {\n",
              "        vertical-align: top;\n",
              "    }\n",
              "\n",
              "    .dataframe thead th {\n",
              "        text-align: right;\n",
              "    }\n",
              "</style>\n",
              "<table border=\"1\" class=\"dataframe\">\n",
              "  <thead>\n",
              "    <tr style=\"text-align: right;\">\n",
              "      <th></th>\n",
              "      <th>encounter_id</th>\n",
              "      <th>patient_nbr</th>\n",
              "      <th>race</th>\n",
              "      <th>gender</th>\n",
              "      <th>age</th>\n",
              "      <th>weight</th>\n",
              "      <th>admission_type_id</th>\n",
              "      <th>discharge_disposition_id</th>\n",
              "      <th>admission_source_id</th>\n",
              "      <th>time_in_hospital</th>\n",
              "      <th>payer_code</th>\n",
              "      <th>medical_specialty</th>\n",
              "      <th>num_lab_procedures</th>\n",
              "      <th>num_procedures</th>\n",
              "      <th>num_medications</th>\n",
              "      <th>number_outpatient</th>\n",
              "      <th>number_emergency</th>\n",
              "      <th>number_inpatient</th>\n",
              "      <th>diag_1</th>\n",
              "      <th>diag_2</th>\n",
              "      <th>diag_3</th>\n",
              "      <th>number_diagnoses</th>\n",
              "      <th>max_glu_serum</th>\n",
              "      <th>A1Cresult</th>\n",
              "      <th>metformin</th>\n",
              "      <th>repaglinide</th>\n",
              "      <th>nateglinide</th>\n",
              "      <th>chlorpropamide</th>\n",
              "      <th>glimepiride</th>\n",
              "      <th>acetohexamide</th>\n",
              "      <th>glipizide</th>\n",
              "      <th>glyburide</th>\n",
              "      <th>tolbutamide</th>\n",
              "      <th>pioglitazone</th>\n",
              "      <th>rosiglitazone</th>\n",
              "      <th>acarbose</th>\n",
              "      <th>miglitol</th>\n",
              "      <th>troglitazone</th>\n",
              "      <th>tolazamide</th>\n",
              "      <th>examide</th>\n",
              "      <th>citoglipton</th>\n",
              "      <th>insulin</th>\n",
              "      <th>glyburide-metformin</th>\n",
              "      <th>glipizide-metformin</th>\n",
              "      <th>glimepiride-pioglitazone</th>\n",
              "      <th>metformin-rosiglitazone</th>\n",
              "      <th>metformin-pioglitazone</th>\n",
              "      <th>change</th>\n",
              "      <th>diabetesMed</th>\n",
              "      <th>readmitted</th>\n",
              "    </tr>\n",
              "  </thead>\n",
              "  <tbody>\n",
              "    <tr>\n",
              "      <th>0</th>\n",
              "      <td>2278392</td>\n",
              "      <td>8222157</td>\n",
              "      <td>Caucasian</td>\n",
              "      <td>Female</td>\n",
              "      <td>[0-10)</td>\n",
              "      <td>?</td>\n",
              "      <td>6</td>\n",
              "      <td>25</td>\n",
              "      <td>1</td>\n",
              "      <td>1</td>\n",
              "      <td>?</td>\n",
              "      <td>Pediatrics-Endocrinology</td>\n",
              "      <td>41</td>\n",
              "      <td>0</td>\n",
              "      <td>1</td>\n",
              "      <td>0</td>\n",
              "      <td>0</td>\n",
              "      <td>0</td>\n",
              "      <td>250.83</td>\n",
              "      <td>?</td>\n",
              "      <td>?</td>\n",
              "      <td>1</td>\n",
              "      <td>None</td>\n",
              "      <td>None</td>\n",
              "      <td>No</td>\n",
              "      <td>No</td>\n",
              "      <td>No</td>\n",
              "      <td>No</td>\n",
              "      <td>No</td>\n",
              "      <td>No</td>\n",
              "      <td>No</td>\n",
              "      <td>No</td>\n",
              "      <td>No</td>\n",
              "      <td>No</td>\n",
              "      <td>No</td>\n",
              "      <td>No</td>\n",
              "      <td>No</td>\n",
              "      <td>No</td>\n",
              "      <td>No</td>\n",
              "      <td>No</td>\n",
              "      <td>No</td>\n",
              "      <td>No</td>\n",
              "      <td>No</td>\n",
              "      <td>No</td>\n",
              "      <td>No</td>\n",
              "      <td>No</td>\n",
              "      <td>No</td>\n",
              "      <td>No</td>\n",
              "      <td>No</td>\n",
              "      <td>NO</td>\n",
              "    </tr>\n",
              "    <tr>\n",
              "      <th>1</th>\n",
              "      <td>149190</td>\n",
              "      <td>55629189</td>\n",
              "      <td>Caucasian</td>\n",
              "      <td>Female</td>\n",
              "      <td>[10-20)</td>\n",
              "      <td>?</td>\n",
              "      <td>1</td>\n",
              "      <td>1</td>\n",
              "      <td>7</td>\n",
              "      <td>3</td>\n",
              "      <td>?</td>\n",
              "      <td>?</td>\n",
              "      <td>59</td>\n",
              "      <td>0</td>\n",
              "      <td>18</td>\n",
              "      <td>0</td>\n",
              "      <td>0</td>\n",
              "      <td>0</td>\n",
              "      <td>276</td>\n",
              "      <td>250.01</td>\n",
              "      <td>255</td>\n",
              "      <td>9</td>\n",
              "      <td>None</td>\n",
              "      <td>None</td>\n",
              "      <td>No</td>\n",
              "      <td>No</td>\n",
              "      <td>No</td>\n",
              "      <td>No</td>\n",
              "      <td>No</td>\n",
              "      <td>No</td>\n",
              "      <td>No</td>\n",
              "      <td>No</td>\n",
              "      <td>No</td>\n",
              "      <td>No</td>\n",
              "      <td>No</td>\n",
              "      <td>No</td>\n",
              "      <td>No</td>\n",
              "      <td>No</td>\n",
              "      <td>No</td>\n",
              "      <td>No</td>\n",
              "      <td>No</td>\n",
              "      <td>Up</td>\n",
              "      <td>No</td>\n",
              "      <td>No</td>\n",
              "      <td>No</td>\n",
              "      <td>No</td>\n",
              "      <td>No</td>\n",
              "      <td>Ch</td>\n",
              "      <td>Yes</td>\n",
              "      <td>&gt;30</td>\n",
              "    </tr>\n",
              "    <tr>\n",
              "      <th>2</th>\n",
              "      <td>64410</td>\n",
              "      <td>86047875</td>\n",
              "      <td>AfricanAmerican</td>\n",
              "      <td>Female</td>\n",
              "      <td>[20-30)</td>\n",
              "      <td>?</td>\n",
              "      <td>1</td>\n",
              "      <td>1</td>\n",
              "      <td>7</td>\n",
              "      <td>2</td>\n",
              "      <td>?</td>\n",
              "      <td>?</td>\n",
              "      <td>11</td>\n",
              "      <td>5</td>\n",
              "      <td>13</td>\n",
              "      <td>2</td>\n",
              "      <td>0</td>\n",
              "      <td>1</td>\n",
              "      <td>648</td>\n",
              "      <td>250</td>\n",
              "      <td>V27</td>\n",
              "      <td>6</td>\n",
              "      <td>None</td>\n",
              "      <td>None</td>\n",
              "      <td>No</td>\n",
              "      <td>No</td>\n",
              "      <td>No</td>\n",
              "      <td>No</td>\n",
              "      <td>No</td>\n",
              "      <td>No</td>\n",
              "      <td>Steady</td>\n",
              "      <td>No</td>\n",
              "      <td>No</td>\n",
              "      <td>No</td>\n",
              "      <td>No</td>\n",
              "      <td>No</td>\n",
              "      <td>No</td>\n",
              "      <td>No</td>\n",
              "      <td>No</td>\n",
              "      <td>No</td>\n",
              "      <td>No</td>\n",
              "      <td>No</td>\n",
              "      <td>No</td>\n",
              "      <td>No</td>\n",
              "      <td>No</td>\n",
              "      <td>No</td>\n",
              "      <td>No</td>\n",
              "      <td>No</td>\n",
              "      <td>Yes</td>\n",
              "      <td>NO</td>\n",
              "    </tr>\n",
              "    <tr>\n",
              "      <th>3</th>\n",
              "      <td>500364</td>\n",
              "      <td>82442376</td>\n",
              "      <td>Caucasian</td>\n",
              "      <td>Male</td>\n",
              "      <td>[30-40)</td>\n",
              "      <td>?</td>\n",
              "      <td>1</td>\n",
              "      <td>1</td>\n",
              "      <td>7</td>\n",
              "      <td>2</td>\n",
              "      <td>?</td>\n",
              "      <td>?</td>\n",
              "      <td>44</td>\n",
              "      <td>1</td>\n",
              "      <td>16</td>\n",
              "      <td>0</td>\n",
              "      <td>0</td>\n",
              "      <td>0</td>\n",
              "      <td>8</td>\n",
              "      <td>250.43</td>\n",
              "      <td>403</td>\n",
              "      <td>7</td>\n",
              "      <td>None</td>\n",
              "      <td>None</td>\n",
              "      <td>No</td>\n",
              "      <td>No</td>\n",
              "      <td>No</td>\n",
              "      <td>No</td>\n",
              "      <td>No</td>\n",
              "      <td>No</td>\n",
              "      <td>No</td>\n",
              "      <td>No</td>\n",
              "      <td>No</td>\n",
              "      <td>No</td>\n",
              "      <td>No</td>\n",
              "      <td>No</td>\n",
              "      <td>No</td>\n",
              "      <td>No</td>\n",
              "      <td>No</td>\n",
              "      <td>No</td>\n",
              "      <td>No</td>\n",
              "      <td>Up</td>\n",
              "      <td>No</td>\n",
              "      <td>No</td>\n",
              "      <td>No</td>\n",
              "      <td>No</td>\n",
              "      <td>No</td>\n",
              "      <td>Ch</td>\n",
              "      <td>Yes</td>\n",
              "      <td>NO</td>\n",
              "    </tr>\n",
              "    <tr>\n",
              "      <th>4</th>\n",
              "      <td>16680</td>\n",
              "      <td>42519267</td>\n",
              "      <td>Caucasian</td>\n",
              "      <td>Male</td>\n",
              "      <td>[40-50)</td>\n",
              "      <td>?</td>\n",
              "      <td>1</td>\n",
              "      <td>1</td>\n",
              "      <td>7</td>\n",
              "      <td>1</td>\n",
              "      <td>?</td>\n",
              "      <td>?</td>\n",
              "      <td>51</td>\n",
              "      <td>0</td>\n",
              "      <td>8</td>\n",
              "      <td>0</td>\n",
              "      <td>0</td>\n",
              "      <td>0</td>\n",
              "      <td>197</td>\n",
              "      <td>157</td>\n",
              "      <td>250</td>\n",
              "      <td>5</td>\n",
              "      <td>None</td>\n",
              "      <td>None</td>\n",
              "      <td>No</td>\n",
              "      <td>No</td>\n",
              "      <td>No</td>\n",
              "      <td>No</td>\n",
              "      <td>No</td>\n",
              "      <td>No</td>\n",
              "      <td>Steady</td>\n",
              "      <td>No</td>\n",
              "      <td>No</td>\n",
              "      <td>No</td>\n",
              "      <td>No</td>\n",
              "      <td>No</td>\n",
              "      <td>No</td>\n",
              "      <td>No</td>\n",
              "      <td>No</td>\n",
              "      <td>No</td>\n",
              "      <td>No</td>\n",
              "      <td>Steady</td>\n",
              "      <td>No</td>\n",
              "      <td>No</td>\n",
              "      <td>No</td>\n",
              "      <td>No</td>\n",
              "      <td>No</td>\n",
              "      <td>Ch</td>\n",
              "      <td>Yes</td>\n",
              "      <td>NO</td>\n",
              "    </tr>\n",
              "  </tbody>\n",
              "</table>\n",
              "</div>"
            ],
            "text/plain": [
              "   encounter_id  patient_nbr             race  ... change diabetesMed readmitted\n",
              "0       2278392      8222157        Caucasian  ...     No          No         NO\n",
              "1        149190     55629189        Caucasian  ...     Ch         Yes        >30\n",
              "2         64410     86047875  AfricanAmerican  ...     No         Yes         NO\n",
              "3        500364     82442376        Caucasian  ...     Ch         Yes         NO\n",
              "4         16680     42519267        Caucasian  ...     Ch         Yes         NO\n",
              "\n",
              "[5 rows x 50 columns]"
            ]
          },
          "metadata": {
            "tags": []
          },
          "execution_count": 9
        }
      ]
    },
    {
      "cell_type": "markdown",
      "metadata": {
        "id": "6GpQXxlJGxMT",
        "colab_type": "text"
      },
      "source": [
        "### The Response Variable: 'readmitted'"
      ]
    },
    {
      "cell_type": "code",
      "metadata": {
        "id": "CD0KA8sxGxMT",
        "colab_type": "code",
        "colab": {
          "base_uri": "https://localhost:8080/",
          "height": 310
        },
        "outputId": "81511a29-7c18-40f3-a043-bb71cd349573"
      },
      "source": [
        "# the response variable 'readmitted' in the original dataset contains three categories.\n",
        "# 11% of patients were readmitted within 30 days (<30)\n",
        "# 35% of patients were readmitted after 30 days (>30)\n",
        "# 54% of patients were never readmitted (NO)\n",
        "data.groupby('readmitted').size().plot(kind='bar')\n",
        "plt.ylabel('Count')"
      ],
      "execution_count": 10,
      "outputs": [
        {
          "output_type": "execute_result",
          "data": {
            "text/plain": [
              "Text(0, 0.5, 'Count')"
            ]
          },
          "metadata": {
            "tags": []
          },
          "execution_count": 10
        },
        {
          "output_type": "display_data",
          "data": {
            "image/png": "[encoded data removed]",
            "text/plain": [
              "<Figure size 432x288 with 1 Axes>"
            ]
          },
          "metadata": {
            "tags": []
          }
        }
      ]
    },
    {
      "cell_type": "code",
      "metadata": {
        "id": "_DBWtzUOGxMW",
        "colab_type": "code",
        "colab": {}
      },
      "source": [
        "# recode the response variable so that it becomes a binary classification task.\n",
        "# '0' means no readmission\n",
        "# '1' means readmission no matter how many days after being discharged\n",
        "data['readmitted'] = pd.Series([0 if val == 'NO' else 1 for val in data['readmitted']])\n",
        "data_origin = data"
      ],
      "execution_count": 0,
      "outputs": []
    },
    {
      "cell_type": "code",
      "metadata": {
        "id": "ojhLYLaaGxMZ",
        "colab_type": "code",
        "colab": {
          "base_uri": "https://localhost:8080/",
          "height": 297
        },
        "outputId": "7e7f441e-9492-4ec8-c27f-ac9401214f20"
      },
      "source": [
        "# plot 'readmitted' again to see the change\n",
        "data.groupby('readmitted').size().plot(kind='bar')\n",
        "plt.ylabel('Count')"
      ],
      "execution_count": 12,
      "outputs": [
        {
          "output_type": "execute_result",
          "data": {
            "text/plain": [
              "Text(0, 0.5, 'Count')"
            ]
          },
          "metadata": {
            "tags": []
          },
          "execution_count": 12
        },
        {
          "output_type": "display_data",
          "data": {
            "image/png": "[encoded data removed]",
            "text/plain": [
              "<Figure size 432x288 with 1 Axes>"
            ]
          },
          "metadata": {
            "tags": []
          }
        }
      ]
    },
    {
      "cell_type": "code",
      "metadata": {
        "id": "-L0nXuUnGxMb",
        "colab_type": "code",
        "colab": {
          "base_uri": "https://localhost:8080/",
          "height": 302
        },
        "outputId": "9d69ff27-1992-441d-835a-c777d1fa5e02"
      },
      "source": [
        "# the response variable 'discharge_disposition_id' in the original dataset contains 29 categories.\n",
        "# now show resualt\n",
        "data.groupby('discharge_disposition_id').size().plot(kind='bar')\n",
        "plt.ylabel('Count')"
      ],
      "execution_count": 13,
      "outputs": [
        {
          "output_type": "execute_result",
          "data": {
            "text/plain": [
              "Text(0, 0.5, 'Count')"
            ]
          },
          "metadata": {
            "tags": []
          },
          "execution_count": 13
        },
        {
          "output_type": "display_data",
          "data": {
            "image/png": "[encoded data removed]",
            "text/plain": [
              "<Figure size 432x288 with 1 Axes>"
            ]
          },
          "metadata": {
            "tags": []
          }
        }
      ]
    },
    {
      "cell_type": "code",
      "metadata": {
        "id": "Xr0UPzaXGxMd",
        "colab_type": "code",
        "colab": {
          "base_uri": "https://localhost:8080/",
          "height": 304
        },
        "outputId": "b83fb858-283b-4815-b627-fea38248a2d5"
      },
      "source": [
        "# the response variable 'discharge_disposition_id' in the original dataset contains 29 categories.\n",
        "# now show resualt\n",
        "data.groupby('change').size().plot(kind='bar')\n",
        "plt.ylabel('Count')"
      ],
      "execution_count": 14,
      "outputs": [
        {
          "output_type": "execute_result",
          "data": {
            "text/plain": [
              "Text(0, 0.5, 'Count')"
            ]
          },
          "metadata": {
            "tags": []
          },
          "execution_count": 14
        },
        {
          "output_type": "display_data",
          "data": {
            "image/png": "[encoded data removed]",
            "text/plain": [
              "<Figure size 432x288 with 1 Axes>"
            ]
          },
          "metadata": {
            "tags": []
          }
        }
      ]
    },
    {
      "cell_type": "markdown",
      "metadata": {
        "id": "VHrOESJ6GxMg",
        "colab_type": "text"
      },
      "source": [
        "# Feature Engineering and EDA\n",
        "Explore data analysis on each feature and decide how to deal with them."
      ]
    },
    {
      "cell_type": "code",
      "metadata": {
        "id": "RsGCXy58GxMh",
        "colab_type": "code",
        "colab": {}
      },
      "source": [
        "# remove irrelevant features\n",
        "data.drop(['encounter_id','patient_nbr', 'payer_code'], axis=1, inplace=True)"
      ],
      "execution_count": 0,
      "outputs": []
    },
    {
      "cell_type": "code",
      "metadata": {
        "id": "GDa9cbVtGxMj",
        "colab_type": "code",
        "colab": {
          "base_uri": "https://localhost:8080/",
          "height": 34
        },
        "outputId": "c35eb7fe-57d5-4f34-c507-fe120d033dff"
      },
      "source": [
        "# check NA in 'weight'\n",
        "data[data['weight'] == '?'].shape[0] * 1.0 / data.shape[0]"
      ],
      "execution_count": 16,
      "outputs": [
        {
          "output_type": "execute_result",
          "data": {
            "text/plain": [
              "0.9685847925633315"
            ]
          },
          "metadata": {
            "tags": []
          },
          "execution_count": 16
        }
      ]
    },
    {
      "cell_type": "code",
      "metadata": {
        "id": "PlOs9tpWGxMn",
        "colab_type": "code",
        "colab": {
          "base_uri": "https://localhost:8080/",
          "height": 34
        },
        "outputId": "46851609-ee91-474e-8a6a-2ce1090f37ea"
      },
      "source": [
        "# check NA in 'medical_specialty'\n",
        "data[data['medical_specialty'] == '?'].shape[0] * 1.0 / data.shape[0]\n"
      ],
      "execution_count": 17,
      "outputs": [
        {
          "output_type": "execute_result",
          "data": {
            "text/plain": [
              "0.49082208203132677"
            ]
          },
          "metadata": {
            "tags": []
          },
          "execution_count": 17
        }
      ]
    },
    {
      "cell_type": "code",
      "metadata": {
        "id": "6opoe8YHGxMp",
        "colab_type": "code",
        "colab": {}
      },
      "source": [
        "# remove 'weight' and 'medical_specialty' because it's hard to do imputation on them\n",
        "data.drop(['weight', 'medical_specialty'], axis=1, inplace=True)"
      ],
      "execution_count": 0,
      "outputs": []
    },
    {
      "cell_type": "code",
      "metadata": {
        "id": "yIm2gl1JGxMs",
        "colab_type": "code",
        "colab": {}
      },
      "source": [
        "# remove rows that have NA in 'race', 'diag_1', 'diag_2', or 'diag_3'\n",
        "# remove rows that have invalid values in 'gender'\n",
        "data = data[data['race'] != '?']\n",
        "data = data[data['diag_1'] != '?']\n",
        "data = data[data['diag_2'] != '?']\n",
        "data = data[data['diag_3'] != '?']\n",
        "data = data[data['gender'] != 'Unknown/Invalid']"
      ],
      "execution_count": 0,
      "outputs": []
    },
    {
      "cell_type": "code",
      "metadata": {
        "id": "oNrOZgITGxMu",
        "colab_type": "code",
        "colab": {
          "base_uri": "https://localhost:8080/",
          "height": 333
        },
        "outputId": "17d937ac-f735-4753-e3c8-0517edf0f364"
      },
      "source": [
        "# check 'age' feature\n",
        "data.groupby('age').size().plot(kind='bar')\n",
        "plt.ylabel('Count')"
      ],
      "execution_count": 20,
      "outputs": [
        {
          "output_type": "execute_result",
          "data": {
            "text/plain": [
              "Text(0, 0.5, 'Count')"
            ]
          },
          "metadata": {
            "tags": []
          },
          "execution_count": 20
        },
        {
          "output_type": "display_data",
          "data": {
            "image/png": "[encoded data removed]",
            "text/plain": [
              "<Figure size 432x288 with 1 Axes>"
            ]
          },
          "metadata": {
            "tags": []
          }
        }
      ]
    },
    {
      "cell_type": "code",
      "metadata": {
        "id": "q4e1T12RGxMx",
        "colab_type": "code",
        "colab": {
          "base_uri": "https://localhost:8080/",
          "height": 333
        },
        "outputId": "0f0af71c-fe54-4301-d1f5-0cd5cc4621bc"
      },
      "source": [
        "# Recategorize 'age' so that the population is more evenly distributed\n",
        "data['age'] = pd.Series(['[0-50)' if val in ['[0-10)', '[10-20)', '[20-30)', '[30-40)', '[40-50)'] else val \n",
        "                         for val in data['age']], index=data.index)\n",
        "data['age'] = pd.Series(['[80-100)' if val in ['[80-90)', '[90-100)'] else val \n",
        "                         for val in data['age']], index=data.index)\n",
        "\n",
        "data.groupby('age').size().plot(kind='bar')\n",
        "plt.ylabel('Count')"
      ],
      "execution_count": 21,
      "outputs": [
        {
          "output_type": "execute_result",
          "data": {
            "text/plain": [
              "Text(0, 0.5, 'Count')"
            ]
          },
          "metadata": {
            "tags": []
          },
          "execution_count": 21
        },
        {
          "output_type": "display_data",
          "data": {
            "image/png": "[encoded data removed]",
            "text/plain": [
              "<Figure size 432x288 with 1 Axes>"
            ]
          },
          "metadata": {
            "tags": []
          }
        }
      ]
    },
    {
      "cell_type": "code",
      "metadata": {
        "id": "i7BfnkfnGxMz",
        "colab_type": "code",
        "colab": {}
      },
      "source": [
        "# original 'discharge_disposition_id' contains 28 levels\n",
        "# reduce 'discharge_disposition_id' levels into 2 categories\n",
        "# discharge_disposition_id = 1 corresponds to 'Discharge Home'\n",
        "data['discharge_disposition_id'] = pd.Series(['Home' if val == 1 else 'Other discharge' \n",
        "                                              for val in data['discharge_disposition_id']], index=data.index)"
      ],
      "execution_count": 0,
      "outputs": []
    },
    {
      "cell_type": "code",
      "metadata": {
        "id": "TkhinMkDGxM1",
        "colab_type": "code",
        "colab": {}
      },
      "source": [
        "# original 'admission_source_id' contains 25 levels\n",
        "# reduce 'admission_source_id' into 3 categories\n",
        "data['admission_source_id'] = pd.Series(['Emergency Room' if val == 7 else 'Referral' if val == 1 else 'Other source' \n",
        "                                              for val in data['admission_source_id']], index=data.index)"
      ],
      "execution_count": 0,
      "outputs": []
    },
    {
      "cell_type": "code",
      "metadata": {
        "id": "gAuiN6_JGxM3",
        "colab_type": "code",
        "colab": {}
      },
      "source": [
        "# original 'admission_type_id' contains 8 levels\n",
        "# reduce 'admission_type_id' into 2 categories\n",
        "data['admission_type_id'] = pd.Series(['Emergency' if val == 1 else 'Other type' \n",
        "                                              for val in data['admission_type_id']], index=data.index)"
      ],
      "execution_count": 0,
      "outputs": []
    },
    {
      "cell_type": "markdown",
      "metadata": {
        "id": "_j20DVoKGxM5",
        "colab_type": "text"
      },
      "source": [
        "23 features represent different medications, should we use them all in the model? \n",
        "\n",
        "How to deal with 'diag_1', 'diag_2', and 'diag_3'? \n",
        "\n",
        "Based on the results found in Reference[1], we know that:\n",
        "- The statistical model suggests that the relationship between the probability of readmission and the HbA1c measurement depends on the **primary diagnosis**. \n",
        "\n",
        "- The only medication that varied significantly across the patients was the delivery of **insulin**, while other medications remained common among all the patients.\n",
        "\n",
        "- It may not be surprising that the attention given to diabetes care in individuals with admitting diagnoses of circulatory or respiratory diseases may have been less than those with a **primary diagnosis of diabetes mellitus**. \n",
        "\n",
        "- Greater attention to diabetes care during the hospitalization for these high-risk individuals may have a significant impact on readmission.\n",
        "\n",
        "- The primary, secondary, and third medical diagnoses are marked by the ICD9 codes. \n",
        "\n",
        "- ICD9 code for diabetes: 250.xx"
      ]
    },
    {
      "cell_type": "code",
      "metadata": {
        "id": "o5CV30yaGxM5",
        "colab_type": "code",
        "colab": {
          "base_uri": "https://localhost:8080/",
          "height": 865
        },
        "outputId": "fdb091ab-7919-4ee9-ee98-14455b8d987d"
      },
      "source": [
        "# compare diabetes medications 'miglitol', 'nateglinide' and 'acarbose' with 'insulin', as an example\n",
        "fig = plt.figure(figsize=(20,15))\n",
        "\n",
        "ax1 = fig.add_subplot(221)\n",
        "ax1 = data.groupby('miglitol').size().plot(kind='bar')\n",
        "plt.xlabel('miglitol', fontsize=15)\n",
        "plt.ylabel('Count', fontsize=15)\n",
        "\n",
        "ax2 = fig.add_subplot(222)\n",
        "ax2 = data.groupby('nateglinide').size().plot(kind='bar')\n",
        "plt.xlabel('nateglinide', fontsize=15)\n",
        "plt.ylabel('Count', fontsize=15)\n",
        "\n",
        "ax3 = fig.add_subplot(223)\n",
        "ax3 = data.groupby('acarbose').size().plot(kind='bar')\n",
        "plt.xlabel('acarbose', fontsize=15)\n",
        "plt.ylabel('Count', fontsize=15)\n",
        "\n",
        "ax4 = fig.add_subplot(224)\n",
        "ax4 = data.groupby('insulin').size().plot(kind='bar')\n",
        "plt.xlabel('insulin', fontsize=15)\n",
        "plt.ylabel('Count', fontsize=15)"
      ],
      "execution_count": 25,
      "outputs": [
        {
          "output_type": "execute_result",
          "data": {
            "text/plain": [
              "Text(0, 0.5, 'Count')"
            ]
          },
          "metadata": {
            "tags": []
          },
          "execution_count": 25
        },
        {
          "output_type": "display_data",
          "data": {
            "image/png": "[encoded data removed]",
            "text/plain": [
              "<Figure size 1440x1080 with 4 Axes>"
            ]
          },
          "metadata": {
            "tags": []
          }
        }
      ]
    },
    {
      "cell_type": "code",
      "metadata": {
        "id": "A0nnwyKGGxM7",
        "colab_type": "code",
        "colab": {}
      },
      "source": [
        "# keep only 'insulin' and remove the other 22 diabetes medications\n",
        "data.drop(['metformin', 'repaglinide', 'nateglinide', 'chlorpropamide', 'glimepiride', \n",
        "           'acetohexamide', 'glipizide', 'glyburide', 'tolbutamide', 'pioglitazone', \n",
        "           'rosiglitazone', 'acarbose', 'miglitol', 'troglitazone', 'tolazamide', 'examide', \n",
        "           'citoglipton', 'glyburide-metformin', 'glipizide-metformin', 'glimepiride-pioglitazone',\n",
        "           'metformin-rosiglitazone', 'metformin-pioglitazone'], axis=1, inplace=True)"
      ],
      "execution_count": 0,
      "outputs": []
    },
    {
      "cell_type": "code",
      "metadata": {
        "id": "dsBzCjmCGxM9",
        "colab_type": "code",
        "colab": {}
      },
      "source": [
        "# denote 'diag_1' as '1' if it relates to diabetes and '0' if it's not\n",
        "# remove 'diag_2' and 'diag_3'\n",
        "data['diag_1'] = pd.Series([1 if val.startswith('250') else 0 for val in data['diag_1']], index=data.index)\n",
        "data.drop(['diag_2', 'diag_3'], axis=1, inplace=True)"
      ],
      "execution_count": 0,
      "outputs": []
    },
    {
      "cell_type": "code",
      "metadata": {
        "id": "OPdZwTTZGxM_",
        "colab_type": "code",
        "colab": {
          "base_uri": "https://localhost:8080/",
          "height": 34
        },
        "outputId": "00a07b1c-d0cb-475c-93e8-07f8273b2e9d"
      },
      "source": [
        "data.shape"
      ],
      "execution_count": 28,
      "outputs": [
        {
          "output_type": "execute_result",
          "data": {
            "text/plain": [
              "(98052, 21)"
            ]
          },
          "metadata": {
            "tags": []
          },
          "execution_count": 28
        }
      ]
    },
    {
      "cell_type": "code",
      "metadata": {
        "id": "87mmLZAKGxNC",
        "colab_type": "code",
        "colab": {
          "base_uri": "https://localhost:8080/",
          "height": 386
        },
        "outputId": "815f551e-f79c-4e82-b624-6968aeb99dd6"
      },
      "source": [
        "# we end up with 98052 rows, 20 features, and one response variable 'readmitted' \n",
        "list(data.columns.values)"
      ],
      "execution_count": 29,
      "outputs": [
        {
          "output_type": "execute_result",
          "data": {
            "text/plain": [
              "['race',\n",
              " 'gender',\n",
              " 'age',\n",
              " 'admission_type_id',\n",
              " 'discharge_disposition_id',\n",
              " 'admission_source_id',\n",
              " 'time_in_hospital',\n",
              " 'num_lab_procedures',\n",
              " 'num_procedures',\n",
              " 'num_medications',\n",
              " 'number_outpatient',\n",
              " 'number_emergency',\n",
              " 'number_inpatient',\n",
              " 'diag_1',\n",
              " 'number_diagnoses',\n",
              " 'max_glu_serum',\n",
              " 'A1Cresult',\n",
              " 'insulin',\n",
              " 'change',\n",
              " 'diabetesMed',\n",
              " 'readmitted']"
            ]
          },
          "metadata": {
            "tags": []
          },
          "execution_count": 29
        }
      ]
    },
    {
      "cell_type": "markdown",
      "metadata": {
        "id": "0N8Nk66cGxNE",
        "colab_type": "text"
      },
      "source": [
        "# Data Preprocessing"
      ]
    },
    {
      "cell_type": "code",
      "metadata": {
        "id": "fNp9sG9IGxNE",
        "colab_type": "code",
        "colab": {}
      },
      "source": [
        "# one-hot-encoding on categorical features\n",
        "# convert nominal values to dummy values\n",
        "# make age group\n",
        "data['age'] = pd.Series([25 if val == '[0-50)' else 55 if val == '[50-60)' else 65 if val == '[60-70)' else 75 if val == '[70-80)' else 90 for val in data['age']], index=data.index)\n",
        "\n",
        "df_race = pd.get_dummies(data['race'])\n",
        "df_gender = pd.get_dummies(data['gender'])\n",
        "df_max_glu_serum = pd.get_dummies(data['max_glu_serum'])\n",
        "df_A1Cresult = pd.get_dummies(data['A1Cresult'])\n",
        "df_insulin = pd.get_dummies(data['insulin'])\n",
        "df_change = pd.get_dummies(data['change'])\n",
        "df_diabetesMed = pd.get_dummies(data['diabetesMed'])\n",
        "df_discharge_disposition_id = pd.get_dummies(data['discharge_disposition_id'])\n",
        "df_admission_source_id = pd.get_dummies(data['admission_source_id'])\n",
        "df_admission_type_id = pd.get_dummies(data['admission_type_id'])\n",
        "\n",
        "data = pd.concat([data, df_race, df_gender, df_max_glu_serum, df_A1Cresult, \n",
        "                  df_insulin, df_change, df_diabetesMed, df_discharge_disposition_id, \n",
        "                  df_admission_source_id, df_admission_type_id], axis=1)\n",
        "data.drop(['race', 'gender', 'max_glu_serum', 'A1Cresult', 'insulin', 'change', \n",
        "                  'diabetesMed', 'discharge_disposition_id', 'admission_source_id', \n",
        "                  'admission_type_id'], axis=1, inplace=True)"
      ],
      "execution_count": 0,
      "outputs": []
    },
    {
      "cell_type": "code",
      "metadata": {
        "id": "n2_YaVbuGxNG",
        "colab_type": "code",
        "colab": {
          "base_uri": "https://localhost:8080/",
          "height": 232
        },
        "outputId": "86f62f3b-c9ad-4f71-ae7d-083e993bf127"
      },
      "source": [
        "data.head()"
      ],
      "execution_count": 31,
      "outputs": [
        {
          "output_type": "execute_result",
          "data": {
            "text/html": [
              "<div>\n",
              "<style scoped>\n",
              "    .dataframe tbody tr th:only-of-type {\n",
              "        vertical-align: middle;\n",
              "    }\n",
              "\n",
              "    .dataframe tbody tr th {\n",
              "        vertical-align: top;\n",
              "    }\n",
              "\n",
              "    .dataframe thead th {\n",
              "        text-align: right;\n",
              "    }\n",
              "</style>\n",
              "<table border=\"1\" class=\"dataframe\">\n",
              "  <thead>\n",
              "    <tr style=\"text-align: right;\">\n",
              "      <th></th>\n",
              "      <th>age</th>\n",
              "      <th>time_in_hospital</th>\n",
              "      <th>num_lab_procedures</th>\n",
              "      <th>num_procedures</th>\n",
              "      <th>num_medications</th>\n",
              "      <th>number_outpatient</th>\n",
              "      <th>number_emergency</th>\n",
              "      <th>number_inpatient</th>\n",
              "      <th>diag_1</th>\n",
              "      <th>number_diagnoses</th>\n",
              "      <th>readmitted</th>\n",
              "      <th>AfricanAmerican</th>\n",
              "      <th>Asian</th>\n",
              "      <th>Caucasian</th>\n",
              "      <th>Hispanic</th>\n",
              "      <th>Other</th>\n",
              "      <th>Female</th>\n",
              "      <th>Male</th>\n",
              "      <th>&gt;200</th>\n",
              "      <th>&gt;300</th>\n",
              "      <th>None</th>\n",
              "      <th>Norm</th>\n",
              "      <th>&gt;7</th>\n",
              "      <th>&gt;8</th>\n",
              "      <th>None</th>\n",
              "      <th>Norm</th>\n",
              "      <th>Down</th>\n",
              "      <th>No</th>\n",
              "      <th>Steady</th>\n",
              "      <th>Up</th>\n",
              "      <th>Ch</th>\n",
              "      <th>No</th>\n",
              "      <th>No</th>\n",
              "      <th>Yes</th>\n",
              "      <th>Home</th>\n",
              "      <th>Other discharge</th>\n",
              "      <th>Emergency Room</th>\n",
              "      <th>Other source</th>\n",
              "      <th>Referral</th>\n",
              "      <th>Emergency</th>\n",
              "      <th>Other type</th>\n",
              "    </tr>\n",
              "  </thead>\n",
              "  <tbody>\n",
              "    <tr>\n",
              "      <th>1</th>\n",
              "      <td>25</td>\n",
              "      <td>3</td>\n",
              "      <td>59</td>\n",
              "      <td>0</td>\n",
              "      <td>18</td>\n",
              "      <td>0</td>\n",
              "      <td>0</td>\n",
              "      <td>0</td>\n",
              "      <td>0</td>\n",
              "      <td>9</td>\n",
              "      <td>1</td>\n",
              "      <td>0</td>\n",
              "      <td>0</td>\n",
              "      <td>1</td>\n",
              "      <td>0</td>\n",
              "      <td>0</td>\n",
              "      <td>1</td>\n",
              "      <td>0</td>\n",
              "      <td>0</td>\n",
              "      <td>0</td>\n",
              "      <td>1</td>\n",
              "      <td>0</td>\n",
              "      <td>0</td>\n",
              "      <td>0</td>\n",
              "      <td>1</td>\n",
              "      <td>0</td>\n",
              "      <td>0</td>\n",
              "      <td>0</td>\n",
              "      <td>0</td>\n",
              "      <td>1</td>\n",
              "      <td>1</td>\n",
              "      <td>0</td>\n",
              "      <td>0</td>\n",
              "      <td>1</td>\n",
              "      <td>1</td>\n",
              "      <td>0</td>\n",
              "      <td>1</td>\n",
              "      <td>0</td>\n",
              "      <td>0</td>\n",
              "      <td>1</td>\n",
              "      <td>0</td>\n",
              "    </tr>\n",
              "    <tr>\n",
              "      <th>2</th>\n",
              "      <td>25</td>\n",
              "      <td>2</td>\n",
              "      <td>11</td>\n",
              "      <td>5</td>\n",
              "      <td>13</td>\n",
              "      <td>2</td>\n",
              "      <td>0</td>\n",
              "      <td>1</td>\n",
              "      <td>0</td>\n",
              "      <td>6</td>\n",
              "      <td>0</td>\n",
              "      <td>1</td>\n",
              "      <td>0</td>\n",
              "      <td>0</td>\n",
              "      <td>0</td>\n",
              "      <td>0</td>\n",
              "      <td>1</td>\n",
              "      <td>0</td>\n",
              "      <td>0</td>\n",
              "      <td>0</td>\n",
              "      <td>1</td>\n",
              "      <td>0</td>\n",
              "      <td>0</td>\n",
              "      <td>0</td>\n",
              "      <td>1</td>\n",
              "      <td>0</td>\n",
              "      <td>0</td>\n",
              "      <td>1</td>\n",
              "      <td>0</td>\n",
              "      <td>0</td>\n",
              "      <td>0</td>\n",
              "      <td>1</td>\n",
              "      <td>0</td>\n",
              "      <td>1</td>\n",
              "      <td>1</td>\n",
              "      <td>0</td>\n",
              "      <td>1</td>\n",
              "      <td>0</td>\n",
              "      <td>0</td>\n",
              "      <td>1</td>\n",
              "      <td>0</td>\n",
              "    </tr>\n",
              "    <tr>\n",
              "      <th>3</th>\n",
              "      <td>25</td>\n",
              "      <td>2</td>\n",
              "      <td>44</td>\n",
              "      <td>1</td>\n",
              "      <td>16</td>\n",
              "      <td>0</td>\n",
              "      <td>0</td>\n",
              "      <td>0</td>\n",
              "      <td>0</td>\n",
              "      <td>7</td>\n",
              "      <td>0</td>\n",
              "      <td>0</td>\n",
              "      <td>0</td>\n",
              "      <td>1</td>\n",
              "      <td>0</td>\n",
              "      <td>0</td>\n",
              "      <td>0</td>\n",
              "      <td>1</td>\n",
              "      <td>0</td>\n",
              "      <td>0</td>\n",
              "      <td>1</td>\n",
              "      <td>0</td>\n",
              "      <td>0</td>\n",
              "      <td>0</td>\n",
              "      <td>1</td>\n",
              "      <td>0</td>\n",
              "      <td>0</td>\n",
              "      <td>0</td>\n",
              "      <td>0</td>\n",
              "      <td>1</td>\n",
              "      <td>1</td>\n",
              "      <td>0</td>\n",
              "      <td>0</td>\n",
              "      <td>1</td>\n",
              "      <td>1</td>\n",
              "      <td>0</td>\n",
              "      <td>1</td>\n",
              "      <td>0</td>\n",
              "      <td>0</td>\n",
              "      <td>1</td>\n",
              "      <td>0</td>\n",
              "    </tr>\n",
              "    <tr>\n",
              "      <th>4</th>\n",
              "      <td>25</td>\n",
              "      <td>1</td>\n",
              "      <td>51</td>\n",
              "      <td>0</td>\n",
              "      <td>8</td>\n",
              "      <td>0</td>\n",
              "      <td>0</td>\n",
              "      <td>0</td>\n",
              "      <td>0</td>\n",
              "      <td>5</td>\n",
              "      <td>0</td>\n",
              "      <td>0</td>\n",
              "      <td>0</td>\n",
              "      <td>1</td>\n",
              "      <td>0</td>\n",
              "      <td>0</td>\n",
              "      <td>0</td>\n",
              "      <td>1</td>\n",
              "      <td>0</td>\n",
              "      <td>0</td>\n",
              "      <td>1</td>\n",
              "      <td>0</td>\n",
              "      <td>0</td>\n",
              "      <td>0</td>\n",
              "      <td>1</td>\n",
              "      <td>0</td>\n",
              "      <td>0</td>\n",
              "      <td>0</td>\n",
              "      <td>1</td>\n",
              "      <td>0</td>\n",
              "      <td>1</td>\n",
              "      <td>0</td>\n",
              "      <td>0</td>\n",
              "      <td>1</td>\n",
              "      <td>1</td>\n",
              "      <td>0</td>\n",
              "      <td>1</td>\n",
              "      <td>0</td>\n",
              "      <td>0</td>\n",
              "      <td>1</td>\n",
              "      <td>0</td>\n",
              "    </tr>\n",
              "    <tr>\n",
              "      <th>5</th>\n",
              "      <td>55</td>\n",
              "      <td>3</td>\n",
              "      <td>31</td>\n",
              "      <td>6</td>\n",
              "      <td>16</td>\n",
              "      <td>0</td>\n",
              "      <td>0</td>\n",
              "      <td>0</td>\n",
              "      <td>0</td>\n",
              "      <td>9</td>\n",
              "      <td>1</td>\n",
              "      <td>0</td>\n",
              "      <td>0</td>\n",
              "      <td>1</td>\n",
              "      <td>0</td>\n",
              "      <td>0</td>\n",
              "      <td>0</td>\n",
              "      <td>1</td>\n",
              "      <td>0</td>\n",
              "      <td>0</td>\n",
              "      <td>1</td>\n",
              "      <td>0</td>\n",
              "      <td>0</td>\n",
              "      <td>0</td>\n",
              "      <td>1</td>\n",
              "      <td>0</td>\n",
              "      <td>0</td>\n",
              "      <td>0</td>\n",
              "      <td>1</td>\n",
              "      <td>0</td>\n",
              "      <td>0</td>\n",
              "      <td>1</td>\n",
              "      <td>0</td>\n",
              "      <td>1</td>\n",
              "      <td>1</td>\n",
              "      <td>0</td>\n",
              "      <td>0</td>\n",
              "      <td>1</td>\n",
              "      <td>0</td>\n",
              "      <td>0</td>\n",
              "      <td>1</td>\n",
              "    </tr>\n",
              "  </tbody>\n",
              "</table>\n",
              "</div>"
            ],
            "text/plain": [
              "   age  time_in_hospital  num_lab_procedures  ...  Referral  Emergency  Other type\n",
              "1   25                 3                  59  ...         0          1           0\n",
              "2   25                 2                  11  ...         0          1           0\n",
              "3   25                 2                  44  ...         0          1           0\n",
              "4   25                 1                  51  ...         0          1           0\n",
              "5   55                 3                  31  ...         0          0           1\n",
              "\n",
              "[5 rows x 41 columns]"
            ]
          },
          "metadata": {
            "tags": []
          },
          "execution_count": 31
        }
      ]
    },
    {
      "cell_type": "code",
      "metadata": {
        "id": "jgv9EOP8GxNI",
        "colab_type": "code",
        "colab": {}
      },
      "source": [
        "# feature scaling, features are standardized to have zero mean and unit variance\n",
        "feature_scale_cols = ['time_in_hospital', 'num_lab_procedures', 'num_procedures', 'num_medications', \n",
        "                      'number_diagnoses', 'number_inpatient', 'number_emergency', 'number_outpatient']\n",
        "\n",
        "from sklearn import preprocessing\n",
        "scaler = preprocessing.StandardScaler().fit(data[feature_scale_cols])\n",
        "data_scaler = scaler.transform(data[feature_scale_cols])\n",
        "\n",
        "data_scaler_df = pd.DataFrame(data=data_scaler, columns=feature_scale_cols, index=data.index)\n",
        "data.drop(feature_scale_cols, axis=1, inplace=True)\n",
        "data = pd.concat([data, data_scaler_df], axis=1)"
      ],
      "execution_count": 0,
      "outputs": []
    },
    {
      "cell_type": "markdown",
      "metadata": {
        "id": "UltxBSIAGxNK",
        "colab_type": "text"
      },
      "source": [
        "# Data Preparation Summary\n",
        "1. Remove NA in 'race', 'gender', 'diag_1', 'diag_2', and 'diag_3'\n",
        "2. Remove 29 features in total: 'encounter_id', 'patient_nbr', 'payer_code', 'weight', 'medical_specialty', 'diag_2', 'diag_3', and 22 features for medications, including 'metformin', 'repaglinide', 'nateglinide', 'chlorpropamide', 'glimepiride', 'acetohexamide', 'glipizide', 'glyburide', 'tolbutamide', 'pioglitazone', 'rosiglitazone', 'acarbose', 'miglitol', 'troglitazone', 'tolazamide', 'examide', 'citoglipton', 'glyburide-metformin', 'glipizide-metformin', 'glimepiride-pioglitazone', 'metformin-rosiglitazone', and 'metformin-pioglitazone'\n",
        "2. Recategorize 'age' feature\n",
        "3. Reduce levels in 'discharge_disposition_id', 'admission_source_id', and 'admission_type_id'\n",
        "4. One-hot-encode on categorical data\n",
        "5. Square root transform on right skewed count data\n",
        "6. Apply feature standardizing on numerical data"
      ]
    },
    {
      "cell_type": "markdown",
      "metadata": {
        "id": "hYbOBBFLGxNK",
        "colab_type": "text"
      },
      "source": [
        "# Feature Importance\n",
        "Evaluate the importance of different features by using emsemble method."
      ]
    },
    {
      "cell_type": "code",
      "metadata": {
        "id": "wnRpThxfGxNL",
        "colab_type": "code",
        "colab": {}
      },
      "source": [
        "# create X (features) and y (response)\n",
        "X = data.drop(['readmitted'], axis=1)\n",
        "y = data['readmitted']"
      ],
      "execution_count": 0,
      "outputs": []
    },
    {
      "cell_type": "code",
      "metadata": {
        "id": "CuaR7q_VGxNN",
        "colab_type": "code",
        "colab": {}
      },
      "source": [
        "# split X and y into cross-validation (85%) and testing (15%) data sets\n",
        "from sklearn.model_selection import train_test_split\n",
        "X_cv, X_test, y_cv, y_test = train_test_split(X, y, test_size=0.15)"
      ],
      "execution_count": 0,
      "outputs": []
    },
    {
      "cell_type": "code",
      "metadata": {
        "id": "43GzKSmhGxNP",
        "colab_type": "code",
        "colab": {
          "base_uri": "https://localhost:8080/",
          "height": 806
        },
        "outputId": "d30a876f-d936-46a9-f211-24d2d3b96791"
      },
      "source": [
        "# fit Random Forest model to the cross-validation data\n",
        "from sklearn.ensemble import RandomForestClassifier\n",
        "forest = RandomForestClassifier()\n",
        "forest.fit(X_cv, y_cv)\n",
        "importances = forest.feature_importances_\n",
        "\n",
        "# make importance relative to the max importance\n",
        "feature_importance = 100.0 * (importances / importances.max())\n",
        "sorted_idx = np.argsort(feature_importance)\n",
        "feature_names = list(X_cv.columns.values)\n",
        "feature_names_sort = [feature_names[indice] for indice in sorted_idx]\n",
        "pos = np.arange(sorted_idx.shape[0]) + .5\n",
        "print ('Top 10 features are: ')\n",
        "for feature in feature_names_sort[::-1][:10]:\n",
        "    print (feature)\n",
        "\n",
        "# plot the result\n",
        "plt.figure(figsize=(12, 10))\n",
        "plt.barh(pos, feature_importance[sorted_idx], align='center')\n",
        "plt.yticks(pos, feature_names_sort)\n",
        "plt.title('Relative Feature Importance', fontsize=20)\n",
        "plt.show()"
      ],
      "execution_count": 53,
      "outputs": [
        {
          "output_type": "stream",
          "text": [
            "Top 10 features are: \n",
            "num_lab_procedures\n",
            "num_medications\n",
            "time_in_hospital\n",
            "age\n",
            "number_diagnoses\n",
            "num_procedures\n",
            "number_inpatient\n",
            "number_outpatient\n",
            "number_emergency\n",
            "Female\n"
          ],
          "name": "stdout"
        },
        {
          "output_type": "display_data",
          "data": {
            "image/png": "[encoded data removed]",
            "text/plain": [
              "<Figure size 864x720 with 1 Axes>"
            ]
          },
          "metadata": {
            "tags": []
          }
        }
      ]
    },
    {
      "cell_type": "code",
      "metadata": {
        "id": "OU5WOJ_BGxNS",
        "colab_type": "code",
        "colab": {
          "base_uri": "https://localhost:8080/",
          "height": 756
        },
        "outputId": "9f0d2977-ee53-453a-fd31-3cf531c0a527"
      },
      "source": [
        "# make a smaller feature set which only contains the top 10 features\n",
        "X_cv_top10 = X_cv[['time_in_hospital', 'num_lab_procedures', 'num_procedures', 'num_medications', 'number_diagnoses',\n",
        "           'number_inpatient','number_outpatient','number_emergency','Female','age']]\n",
        "X_test_top10 = X_test[['time_in_hospital', 'num_lab_procedures', 'num_procedures', 'num_medications', 'number_diagnoses',\n",
        "           'number_inpatient','number_outpatient','number_emergency','Female','age']]\n",
        "data.dtypes"
      ],
      "execution_count": 54,
      "outputs": [
        {
          "output_type": "execute_result",
          "data": {
            "text/plain": [
              "age                     int64\n",
              "diag_1                  int64\n",
              "readmitted              int64\n",
              "AfricanAmerican         uint8\n",
              "Asian                   uint8\n",
              "Caucasian               uint8\n",
              "Hispanic                uint8\n",
              "Other                   uint8\n",
              "Female                  uint8\n",
              "Male                    uint8\n",
              ">200                    uint8\n",
              ">300                    uint8\n",
              "None                    uint8\n",
              "Norm                    uint8\n",
              ">7                      uint8\n",
              ">8                      uint8\n",
              "None                    uint8\n",
              "Norm                    uint8\n",
              "Down                    uint8\n",
              "No                      uint8\n",
              "Steady                  uint8\n",
              "Up                      uint8\n",
              "Ch                      uint8\n",
              "No                      uint8\n",
              "No                      uint8\n",
              "Yes                     uint8\n",
              "Home                    uint8\n",
              "Other discharge         uint8\n",
              "Emergency Room          uint8\n",
              "Other source            uint8\n",
              "Referral                uint8\n",
              "Emergency               uint8\n",
              "Other type              uint8\n",
              "time_in_hospital      float64\n",
              "num_lab_procedures    float64\n",
              "num_procedures        float64\n",
              "num_medications       float64\n",
              "number_diagnoses      float64\n",
              "number_inpatient      float64\n",
              "number_emergency      float64\n",
              "number_outpatient     float64\n",
              "dtype: object"
            ]
          },
          "metadata": {
            "tags": []
          },
          "execution_count": 54
        }
      ]
    },
    {
      "cell_type": "markdown",
      "metadata": {
        "id": "gMFqOfHcGxNU",
        "colab_type": "text"
      },
      "source": [
        "# Model Selection\n",
        "Compare the performance of three machine learning algorithms: Random Forest, Naive Bayes, and Logistic Regression.\n",
        "\n",
        "Select the best model using 10-fold cross validation. The metric that will be using is the accuracy of prediction."
      ]
    },
    {
      "cell_type": "code",
      "metadata": {
        "id": "yiDfBc7XGxNU",
        "colab_type": "code",
        "colab": {}
      },
      "source": [
        "from sklearn.model_selection import cross_val_score"
      ],
      "execution_count": 0,
      "outputs": []
    },
    {
      "cell_type": "code",
      "metadata": {
        "id": "xzXo5_DFGxNW",
        "colab_type": "code",
        "colab": {
          "base_uri": "https://localhost:8080/",
          "height": 34
        },
        "outputId": "0b5b8fae-ac8a-42ed-b48d-d466ce15ef86"
      },
      "source": [
        "# Random Forest\n",
        "from sklearn.ensemble import RandomForestClassifier\n",
        "clf1 = RandomForestClassifier()\n",
        "RF_score = cross_val_score(clf1, X_cv_top10, y_cv, cv=10, scoring='accuracy').mean()\n",
        "RF_score"
      ],
      "execution_count": 38,
      "outputs": [
        {
          "output_type": "execute_result",
          "data": {
            "text/plain": [
              "0.5893984075709607"
            ]
          },
          "metadata": {
            "tags": []
          },
          "execution_count": 38
        }
      ]
    },
    {
      "cell_type": "code",
      "metadata": {
        "id": "QIuWG6g4GxNY",
        "colab_type": "code",
        "colab": {
          "base_uri": "https://localhost:8080/",
          "height": 34
        },
        "outputId": "aa07423b-85e6-401f-a78b-2883121aac5f"
      },
      "source": [
        "# Naive Bayes\n",
        "from sklearn.naive_bayes import GaussianNB\n",
        "clf2 = GaussianNB()\n",
        "NB_score = cross_val_score(clf2, X_cv_top10, y_cv, cv=10, scoring='accuracy').mean()\n",
        "NB_score"
      ],
      "execution_count": 39,
      "outputs": [
        {
          "output_type": "execute_result",
          "data": {
            "text/plain": [
              "0.5892709345949001"
            ]
          },
          "metadata": {
            "tags": []
          },
          "execution_count": 39
        }
      ]
    },
    {
      "cell_type": "code",
      "metadata": {
        "id": "ZWWeCUhgGxNb",
        "colab_type": "code",
        "colab": {
          "base_uri": "https://localhost:8080/",
          "height": 34
        },
        "outputId": "f3a5e366-fa75-4d67-cfba-a439aa2f56c1"
      },
      "source": [
        "# Logistic Regression\n",
        "from sklearn.linear_model import LogisticRegression\n",
        "clf3 = LogisticRegression()\n",
        "LR_score = cross_val_score(clf3, X_cv_top10, y_cv, cv=10, scoring='accuracy').mean()\n",
        "LR_score"
      ],
      "execution_count": 40,
      "outputs": [
        {
          "output_type": "execute_result",
          "data": {
            "text/plain": [
              "0.614410889658734"
            ]
          },
          "metadata": {
            "tags": []
          },
          "execution_count": 40
        }
      ]
    },
    {
      "cell_type": "code",
      "metadata": {
        "id": "eenct5uAGxNc",
        "colab_type": "code",
        "colab": {
          "base_uri": "https://localhost:8080/",
          "height": 282
        },
        "outputId": "972829c4-bd24-495b-ebc8-58c65ba4f430"
      },
      "source": [
        "# plot and compare the scores\n",
        "# LR outperforms the other two a little bit\n",
        "x_axis = np.arange(3)\n",
        "y_axis = [RF_score, NB_score, LR_score]\n",
        "plt.bar(x_axis, y_axis, width=0.4)\n",
        "plt.xticks(x_axis + 0.4/2., ('Random Forest', 'Naive bayes', 'Logistic Regression'))\n",
        "plt.ylabel('Cross-Validated Accuracy')"
      ],
      "execution_count": 41,
      "outputs": [
        {
          "output_type": "execute_result",
          "data": {
            "text/plain": [
              "Text(0, 0.5, 'Cross-Validated Accuracy')"
            ]
          },
          "metadata": {
            "tags": []
          },
          "execution_count": 41
        },
        {
          "output_type": "display_data",
          "data": {
            "image/png": "[encoded data removed]",
            "text/plain": [
              "<Figure size 432x288 with 1 Axes>"
            ]
          },
          "metadata": {
            "tags": []
          }
        }
      ]
    },
    {
      "cell_type": "code",
      "metadata": {
        "id": "seM2ohfeGxNf",
        "colab_type": "code",
        "colab": {
          "base_uri": "https://localhost:8080/",
          "height": 34
        },
        "outputId": "5ed7881c-58c9-46ff-b91b-40a2dc3f4800"
      },
      "source": [
        "#  DecisionTree\n",
        "from sklearn.tree import DecisionTreeClassifier\n",
        "clf4 = DecisionTreeClassifier(random_state=0,max_depth=32, criterion = \"entropy\", min_samples_split=12)\n",
        "De_score = cross_val_score(clf4, X_cv_top10, y_cv, cv=10, scoring='accuracy').mean()\n",
        "De_score"
      ],
      "execution_count": 42,
      "outputs": [
        {
          "output_type": "execute_result",
          "data": {
            "text/plain": [
              "0.553728205098204"
            ]
          },
          "metadata": {
            "tags": []
          },
          "execution_count": 42
        }
      ]
    },
    {
      "cell_type": "code",
      "metadata": {
        "id": "L6CKgspvGxNh",
        "colab_type": "code",
        "colab": {
          "base_uri": "https://localhost:8080/",
          "height": 34
        },
        "outputId": "e7ee94a3-ba21-4993-c045-1ca51d180a01"
      },
      "source": [
        "# k means\n",
        "from sklearn.neighbors import KNeighborsClassifier\n",
        "clf5 =  KNeighborsClassifier(12)\n",
        "Kn_score = cross_val_score(clf5, X_cv_top10, y_cv, cv=10, scoring='accuracy').mean()\n",
        "Kn_score"
      ],
      "execution_count": 43,
      "outputs": [
        {
          "output_type": "execute_result",
          "data": {
            "text/plain": [
              "0.5888757784444858"
            ]
          },
          "metadata": {
            "tags": []
          },
          "execution_count": 43
        }
      ]
    },
    {
      "cell_type": "code",
      "metadata": {
        "id": "yFncZ_gsHWtv",
        "colab_type": "code",
        "colab": {
          "base_uri": "https://localhost:8080/",
          "height": 140
        },
        "outputId": "ddcdc0a3-eb06-4f53-ebf1-431bf706f742"
      },
      "source": [
        "# neural network keras \n",
        "\n",
        "import keras \n",
        "from tensorflow.python.keras.layers import Dense\n",
        "from tensorflow.python.keras import Sequential\n",
        "\n",
        "classifier = Sequential()\n",
        "classifier.add(Dense(input_shape=(10,), units=6, kernel_initializer='random_uniform', activation='relu', ))\n",
        "classifier.add(Dense(units=10, kernel_initializer='random_uniform', activation='relu'))\n",
        "classifier.add(Dense(units=15, kernel_initializer='random_uniform', activation='relu'))\n",
        "classifier.add(Dense(units=1, kernel_initializer='random_uniform', activation='sigmoid'))\n",
        "classifier.compile(optimizer='adam', loss='binary_crossentropy', metrics =['accuracy'])\n",
        "classifier.fit(X_cv_top10, y_cv, batch_size=10 , epochs=3)\n",
        "\n",
        "y_pred_nn = classifier.predict(X_test_top10)\n",
        "y_pred_nn = [1 if y > 0.5 else 0 for y in y_pred_nn]\n",
        "\n",
        "\n",
        "from sklearn.metrics import accuracy_score\n",
        "\n",
        "acc1 = accuracy_score(y_test, y_pred_nn)\n",
        "\n",
        "acc1"
      ],
      "execution_count": 59,
      "outputs": [
        {
          "output_type": "stream",
          "text": [
            "Epoch 1/3\n",
            "8335/8335 [==============================] - 12s 1ms/step - loss: 0.6608 - accuracy: 0.6061\n",
            "Epoch 2/3\n",
            "8335/8335 [==============================] - 11s 1ms/step - loss: 0.6563 - accuracy: 0.6125\n",
            "Epoch 3/3\n",
            "8335/8335 [==============================] - 11s 1ms/step - loss: 0.6554 - accuracy: 0.6153\n"
          ],
          "name": "stdout"
        },
        {
          "output_type": "execute_result",
          "data": {
            "text/plain": [
              "0.6231982594506391"
            ]
          },
          "metadata": {
            "tags": []
          },
          "execution_count": 59
        }
      ]
    },
    {
      "cell_type": "markdown",
      "metadata": {
        "id": "fIbgjZXJGxNj",
        "colab_type": "text"
      },
      "source": [
        "### other solution for classtering this dataset\n",
        "https://www.kaggle.com/iabhishekofficial/prediction-on-hospital-readmission/notebook link"
      ]
    }
  ]
}